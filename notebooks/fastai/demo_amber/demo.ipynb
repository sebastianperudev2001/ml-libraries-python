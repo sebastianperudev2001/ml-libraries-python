{
 "cells": [
  {
   "cell_type": "markdown",
   "metadata": {},
   "source": [
    "# Demo"
   ]
  },
  {
   "cell_type": "code",
   "execution_count": null,
   "metadata": {},
   "outputs": [],
   "source": [
    "#Natural Language Processing\n",
    "#This module contains tools and functions for working with text data\n",
    "from fastai.text.all import *"
   ]
  },
  {
   "cell_type": "code",
   "execution_count": null,
   "metadata": {},
   "outputs": [],
   "source": [
    "#Download the IMDB dataset\n",
    "path = untar_data(URLs.IMDB)\n",
    "path.ls()"
   ]
  },
  {
   "cell_type": "code",
   "execution_count": null,
   "metadata": {},
   "outputs": [],
   "source": []
  },
  {
   "cell_type": "code",
   "execution_count": null,
   "metadata": {},
   "outputs": [],
   "source": [
    "\"\"\"\n",
    "Load the data into a DataLoaders object.\n",
    "\n",
    "Parameters:\n",
    "-path: The path to the dataset.\n",
    "- valid: The validation set to use. In this case, 'test'.\n",
    "\n",
    "Returns:\n",
    "- dls: A DataLoaders object containing the loaded data.\n",
    "\n",
    "\n",
    "valid='test': This argument specifies which folder or subset of your data should be used for validation. \n",
    "In the IMDB dataset, there are typically two main subsets: train for training data and test for testing or validation data. \n",
    "By setting valid to test, you're indicating that the 'test' folder within the path directory should be used for validation. \n",
    "This is a common practice in machine learning to have a separate validation set to evaluate the model's performance during training.\n",
    "\"\"\"\n",
    "\n",
    "dls = TextDataLoaders.from_folder(path, valid='test')"
   ]
  },
  {
   "cell_type": "code",
   "execution_count": null,
   "metadata": {},
   "outputs": [],
   "source": [
    "\n",
    "\"\"\"\n",
    "Create a text classifier learner.\n",
    "\n",
    "Parameters:\n",
    "- dls: The data loader for the text classification task.\n",
    "- AWD_LSTM: The architecture of the LSTM model.\n",
    "- drop_mult: The dropout multiplier. Dropout is a regularization technique that helps prevent overfitting.\n",
    "- metrics: The evaluation metric(s) to use.\n",
    "\n",
    "Returns:\n",
    "- learn: The text classifier learner.\n",
    "\"\"\"\n",
    "\n",
    "\n",
    "learn = text_classifier_learner(dls, AWD_LSTM, drop_mult=0.5, metrics=accuracy)\n"
   ]
  },
  {
   "cell_type": "code",
   "execution_count": null,
   "metadata": {},
   "outputs": [],
   "source": [
    "learn.fine_tune(1)"
   ]
  }
 ],
 "metadata": {
  "kernelspec": {
   "display_name": "Python 3",
   "language": "python",
   "name": "python3"
  },
  "language_info": {
   "codemirror_mode": {
    "name": "ipython",
    "version": 3
   },
   "file_extension": ".py",
   "mimetype": "text/x-python",
   "name": "python",
   "nbconvert_exporter": "python",
   "pygments_lexer": "ipython3",
   "version": "3.10.12"
  }
 },
 "nbformat": 4,
 "nbformat_minor": 2
}
