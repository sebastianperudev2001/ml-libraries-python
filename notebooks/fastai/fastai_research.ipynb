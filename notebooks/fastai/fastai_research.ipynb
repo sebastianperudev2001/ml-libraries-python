{
 "cells": [
  {
   "cell_type": "markdown",
   "metadata": {},
   "source": [
    "# Fast AI\n",
    "- Startup making Deep Learning easier for everyone to use. \n",
    "- Problem: Prerequisites to work in AI:\n",
    "    - PhD\n",
    "    - Big data sets\n",
    "    - Expensive computing power\n",
    "\n",
    "- Benefit: Diversity to prevent biased predictions\n",
    "\n",
    "\n",
    "## Important facts\n",
    "\n",
    "- Students from Fast.ai created an AI algorithm that outperforms code from Google's researchers (using DAWNBench)\n",
    "    - **DAWNBech**: A benchmark from Stanford that uses a commom image classification task to track the speed of Deep Learning algoirthms per dollar of compute power.\n",
    "    - [How?](https://www.fast.ai/posts/2018-08-10-fastai-diu-imagenet.html) The Fast.ai algorithm was trained on the ImageNet database in 18 minutes using 16 Amazon Web Service instances, at a total compute cost of around $40. Howard claims this is about 40 percent better than Google’s effort, although he admits comparison is tricky because the hardware is different.\n",
    "- Built on top of Pytorch. Why?  @Bikamateba123\n",
    "    - Keras was not flexible enough. \n",
    "        - You have to tell it a lot more --> You need to be crack in ML.\n",
    "    - PyTorch allow them to implement new ML algorithms. \n",
    "        - Work with data --> Easy and flexible\n",
    "    - Although Pytorch lacked Keras's ease of use --> they decided to build their own version of Keras.\n",
    "- **Platform.ai**: Build an easy graphical user interface for domain-specific problem solving without the need to be an expert in either AI or cloud computing. \n",
    "- **Enlitic**: Startup that uses Deep Learning for medical things such as recognizing tumors in medical images.\n",
    "\n",
    "## Success cases:\n",
    "\n",
    "- **Sentiment Analysis**: Tahsin Mayeesha is a Bangladeshi student who created a network visualization project analyzing data from a prominent Bangladeshi newspaper to explore the media coverage of violence against women.\n",
    "\n",
    "- **Smart Diagnosis Solutions**: Karthik Mahadevan, an industrial designer in Amsterdam, previously created an interactive medical toy for children with cancer. More recently, he helped develop smart diagnosis solutions for rural health centres in Uganda. His team developed a smartphone-based device that captures magnified images of blood smear of malaria patients. The images are processed through an AI-based software that highlights potential parasites in the image for lab technicians to check.\n",
    "\n",
    "- **Large Urdu Dataset**: Samar Haider of Pakistan collected the largest dataset ever of his native language of Urdu. He says he was inspired by Lesson 5 of Part 1 to acquire, clean, and segment into sentences an Urdu corpus with over 150 million tokens. Haider trained a model to learn vector representations of the words, which captured useful semantic relationships and lexical variations.\n",
    "\n",
    "- **Parkinson’s Patient Therapy Management**: Xinxin Li previously developed carbon management technologies as an environmental research engineer, and built a Python app to diagnose plant diseases through photos of leaves. She is now working with a wearable technology company to develop a system for Parkinson’s patient therapy management, the core of which is a machine learning model to be trained with clinical trial data. This new system would enable a doctor to gauge patients’ symptoms, such as tremors and dyskinetic, via sensor data collected out of clinic, rather than relying on written diaries or interviews with patient caregivers.\n",
    "\n",
    "- **Satellite Imagery for Social Impact**: Sahil Singla works at a social impact startup in India, using deep learning on satellite imagery to help the Indian government identify which villages have problems of landlessness or crop failure. Singla plans to use deep learning to build better crop insurance and agriculture lending models, thus reducing farmer suicides.\n",
    "\n",
    "- **Fact-Checking Tools**: Amy Xiao, an undergraduate at the University of Toronto, plans to create tools such as browser extensions to help people distinguish between facts and fiction in online information. Her goal is to rate the legitimacy of online content via a deep learning model by integrating sentiment analysis of the comments, legitimacy of news source, and the content itself, trained on labeled articles with a “predetermined” score. She is also interested in exploring how to discern legitimate vs. fake reviews from online sites.\n",
    "\n",
    "- **Automated Wood Identification**: Prabu Ravindran is developing a deep learning system for automated wood identification in the Center for Wood Anatomy Research, Forest Products Laboratory, and the U of Wisconsin Botany Department. This system will be deployed to combat illegal logging and identify wood products.\n",
    "\n",
    "- **Nigerian Fashion Data Scraping**: Orlando Adeyemi, a Nigerian currently working in Malaysia, has already begun scraping Nigerian fashion websites for data that he plans to apply deep learning to.\n",
    "\n",
    "- **Trash-Picking Robot**: Gurumoorthy C is excited about the “Clean India” initiative launched by Prime Minister Modi. Together with a group of friends, Gurumoorthy plans to create a small robot to pick up trash in the street, and correctly identify waste.\n",
    "\n",
    "- **Visually Impaired Navigation**: Karthik Kannan is currently working on a idea that incorporates deep learning and wearable cameras to help the visually impaired navigate closed spaces in India.\n",
    "\n",
    "- **Fun Level Inference from Video Games**: Alexis Fortin-Cote is a PhD student in robotics at U Laval from French-speaking Quebec. He plans to create a model capable of inferring the level of fun players are experiencing from video games, using bio sensor information and self-reported emotional state. Together with a team from the school of psychology, he has already collected over 400 total hours of data from 200 players.\n"
   ]
  },
  {
   "cell_type": "code",
   "execution_count": null,
   "metadata": {},
   "outputs": [],
   "source": []
  }
 ],
 "metadata": {
  "language_info": {
   "name": "python"
  }
 },
 "nbformat": 4,
 "nbformat_minor": 2
}
